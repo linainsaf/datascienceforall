{
 "cells": [
  {
   "cell_type": "markdown",
   "metadata": {},
   "source": [
    "# Les CART"
   ]
  },
  {
   "attachments": {},
   "cell_type": "markdown",
   "metadata": {},
   "source": [
    "## Overview\n",
    "\n",
    "Ce cours a pour but de vous faire comprendre les principes théoriques des arbres de décision et de vous faire coder un exemple simple d'application. \n",
    "\n",
    "Les arbres de decisions s’inscrivent dans le champ des méthodes de partitionnement récursif, qu’on connait plutôt sous l’acronyme CART (Classification And Regression Tree) qui permettent d’établir des règles successives permettant de classer des observations ou de faire des régressions.\n",
    "\n",
    "On parle de **classification lorsque la variable cible est qualitative (catégorielle)**, cas que nous traiterons dans un second temps. Dans cette introduction nous nous intéressons au Regression Trees qui interviennent dans le cas d’une variable cible quantitative. Leur avantage réside notament dans leur représentation graphique aisément lisible ce qui en fait de bons choix pour modéliser des problématiques buisiness. \n",
    "\n",
    "Un arbre est composé de trois types d’éléments :\n",
    "\n",
    "*   La racine, où réside l’ensemble des données d’apprentissage.\n",
    "*   Les noeuds/branches, qui représente les points à partir de la racine où les données sont séparées en deux groupes selon un critère lié aux variables explicatives.\n",
    "*   Les feuilles, qui sont les noeuds terminaux de l’arbre et auxquels sont associés un valeur dans le cas où ***Y*** est quantitative et une classe lorsque ***Y*** est qualitative.\n",
    "\n",
    "Ainsi à partir de la racine on défini un noeud qui divise l’ensemble des données selon un critère lié à une variable explicative, pour chacune des deux branches ainsi créées on répète le même procédé, et ainsi de suite jusqu’à ce qu’aucune division ne satisfasse le critère de construction d’un noeud et on définit alors un noeud terminal ou feuille.\n",
    "\n",
    "![CART.png](CART.png)\n",
    "\n",
    "\n",
    "Voilà un exemple d’arbre avec en haut la racine et la première division et l’enchaînement des branches, jusqu’aux feuilles. Par ailleurs, on constate immédiatement l’aspect très clair et visuel de l’arbre.\n",
    "Imaginons que nous avons un programme qui demande trois valeurs à  un utilisateur et qui a pour but de classer ces trois valeurs. Pour répondre au problème on utilise un arbre de décision comme celui ci-dessus. \n",
    "\n",
    "Voyons comment lire cette représentation en arbre, pour cela il faut commencer par regarder le noeud tout en haut et vérifier si la condition s’applique. Comme indiqué sur le schéma, si oui nous allons a gauche vers le noeud inférieure vérifier (ou non) la nouvelle condition. Et cela jusqu'à qu’il n’existe plus de noeud inférieur. \n",
    "\n",
    "Pour se faire cet algorithme a besoin de plusieurs choses :\n",
    "\n",
    "- Un critère de sélection de la meilleure division\n",
    "- Une règle pour définir si un noeud est terminal\n",
    "- Une méthode pour assigner à chaque feuille une valeur ou une classe\n",
    "\n",
    "\n",
    "## La notation mathématique du problème : le critère de division\n",
    "\n",
    "Comme énoncé dans la partie précédente afin de construire un arbre de décision il nous faut un critère de sélection de la meilleure division pour un noeud. \n",
    "\n",
    "Un noeud est admissible si les branches qui en découlent portent des noeuds non vide (c’est à dire qu’au moins une observation appartient à chacun des noeuds enfant). Pour un noeud parent contenant M observations il existe M - 1 divisions admissibles si la variables sélectionnée pour la division est quantitative ou qualitative ordinale, et  divisions admissibles si la variable sélectionnée est nominale.\n",
    "\n",
    "Afin de sélectionner la meilleure division admissible, on construit une fonction d’hétérogénéité qui présente deux propriétés remarquables :\n",
    "\n",
    "- Elle vaut zéro lorsque tous les individus appartiennent à la même modalité ou présentent la même valeur de Y.\n",
    "- Elle est maximale lorsque les valeurs de Y sont équiréparties dans le noeud.\n",
    "\n",
    "On cherche donc la division qui minimise la somme des hétérogénéités des noeuds enfants.\n",
    "\n",
    "\n",
    "## La notation mathématique du problème : le critère d’arrêt\n",
    "\n",
    "Un noeud donné sera terminal lorsqu’il est homogène, c’est à dire que toutes les observations dans le noeud présente la même valeur ou la même modalité de Y, lorsqu’il n’existe plus de divisions admissibles, ou bien lorsque le nombre d’observations dans le noeud est inférieur à une valeur définie à l’avance, en général de l’ordre de quelques unités.\n",
    "\n",
    "**Dans le cas ou Y est une variable quantitative** \n",
    "Dans le cas de la régression, l’hétérogénéité du noeud k s’écrit de la manière suivante :\n",
    "\n",
    "$$H_k=\\frac{1}{Card(k)}\\cdot\\sum_{i\\in{k}}(y_i-\\bar{y_k})^2$$ \n",
    "\n",
    "$Card(k)$ parfois aussi noté `#(k)` ou encore $|k|$ est le nombre d’éléments dans le noeud $k$, et $\\bar{y}_k$ est la moyenne des valeurs de $Y$ parmi les observations du noeud $k$. Ce qui fait la variance du noeud $k$. La division retenue est celle pour laquelle : $H_{kG}+H_{kD}$ la somme de l’hétérogénéité de la branche gauche et de la branche droite est minimale. Car rappelons le **l’objectif est de partager les individus en deux groupes les plus homogènes par rapport à notre variable cible**. Cela peut parraitre complexe mais vous aller voir les outils python nous facilitent beaucoup la tâche. \n",
    "\n",
    "\n",
    "**Dans le cas ou Y est une variable qualitative** \n",
    "Soit Y une variable qualitative à m modalités ou catégories numérotées de 1 à m. La fonction d’hétérogénéité privilégiée la plupart du temps est la concentration de GINI qui se note de la façon suivante :\n",
    "\n",
    "$$H_k=\\sum_{i=1}^{m}p_{k}^{i}\\cdot(1-p_{k}^{i})$$\n",
    "\n",
    "Où $p^i_k$ est la proportion des individus de la classe $i$ de $Y$ dans le noeud $k$.\n",
    "\n",
    "Comme précédemment, il s’agit pour chaque nœud de rechercher, parmi les divisions admissible, celle qui maximise la décroissance de l’hétérogénéité.\n",
    "\n",
    "\n",
    "## L’élagage d’un arbre\n",
    "\n",
    "Le problème des modèles de régression comme LASSO et RIDGE est qu’il y a un risque comme dans tout problème d’apprentissage supervisé qui est celui du sur-apprentissage.\n",
    "\n",
    "Pour rappel, le sur-apprentissage signifie que votre algorithme c’est tellement entraîné sur vos données qu’il perd sa capacité à généraliser ses prédictions. Le critère d’arrêt défini pour la construction de l’arbre est souvent propice au sur-apprentissage puisqu’il est très probables que la plupart des feuilles de l’arbre ne contiennent que quelques observations, nous allons illustrer cette exemple plus tard.\n",
    "\n",
    "Ainsi l’arbre de décision tel quel sera très instable, son biais est quasi-nul voir nul par définition, il dépend très fortement des observations de la base d’apprentissage et sera potentiellement peu généralisable aux nouvelles données.\n",
    "\n",
    "Notre problème est donc de trouver un arbre intermédiaire qui vérifie un compromis biais variance intéressant pour les besoins de l’estimation de $Y$. C’est pour cela que nous allons voir les forets aléatoires (en ensemble d’arbres) qui vont justement répondre à ce problème. Nous allons voir les forets aléatoires dans la partie suivante pas de panique. \n",
    "\n",
    "\n",
    "### Le critere de GINI \n",
    "\n",
    "The Gini index, also known as the Gini coefficient or Gini impurity, is a **measure of inequality or impurity in a dataset**. In the context of decision trees, it's **used to quantify the impurity of a node, which in turn helps us determine the best feature to split the dataset on**. \n",
    "\n",
    "The Gini index ranges between 0 and 1, with 0 representing perfect purity (all instances in a node belong to a single class) and 1 representing maximum impurity (instances are distributed uniformly across all classes).\n",
    "\n",
    "The CART algorithm can uses the Gini index to choose the best split at each node of the tree. The algorithm calculates the Gini index for each potential split and selects the split that results in the lowest weighted Gini index.\n",
    "\n",
    "#### Exemple de code `gini_index` function \n",
    "\n",
    "Now let's dive into some Python examples to illustrate these concepts. First, we'll start with a simple function to calculate the Gini index of a dataset:\n"
   ]
  },
  {
   "cell_type": "code",
   "execution_count": 2,
   "metadata": {},
   "outputs": [],
   "source": [
    "def gini_index(groups, classes):\n",
    "    total_instances = sum([len(group) for group in groups])\n",
    "    gini = 0.0\n",
    "    \n",
    "    for group in groups:\n",
    "        group_size = len(group)\n",
    "        if group_size == 0:\n",
    "            continue\n",
    "        \n",
    "        score = 0.0\n",
    "        for class_val in classes:\n",
    "            proportion = [row[-1] for row in group].count(class_val) / group_size\n",
    "            score += proportion * proportion\n",
    "        \n",
    "        gini += (1 - score) * (group_size / total_instances)\n",
    "    \n",
    "    return gini\n",
    "\n",
    "#Now let's consider a toy dataset with two features and a binary class label (A,B)\n",
    "\n",
    "dataset = [\n",
    "    [1, 1, 'A'],\n",
    "    [1, 2, 'A'],\n",
    "    [2, 1, 'B'],\n",
    "    [2, 2, 'B'],\n",
    "    [3, 1, 'A'],\n",
    "    [3, 2, 'A'],\n",
    "    [4, 1, 'B'],\n",
    "    [4, 2, 'B'],\n",
    "]\n"
   ]
  },
  {
   "cell_type": "markdown",
   "metadata": {},
   "source": [
    "We can now use our `gini_index()` function to evaluate the Gini index for different splits:"
   ]
  },
  {
   "cell_type": "code",
   "execution_count": 3,
   "metadata": {},
   "outputs": [
    {
     "name": "stdout",
     "output_type": "stream",
     "text": [
      "Gini index for split 1: 0.3333333333333333\n",
      "Gini index for split 2: 0.5\n"
     ]
    }
   ],
   "source": [
    "# Example splits:\n",
    "# Split 1: [1, 1, 'A'], [1, 2, 'A'] | [2, 1, 'B'], [2, 2, 'B'], [3, 1, 'A'], [3, 2, 'A'], [4, 1, 'B'], [4, 2, 'B']\n",
    "# Split 2: [1, 1, 'A'], [1, 2, 'A'], [2, 1, 'B'], [2, 2, 'B'] | [3, 1, 'A'], [3, 2, 'A'], [4, 1, 'B'], [4, 2, 'B']\n",
    "\n",
    "split1 = (dataset[:2], dataset[2:])\n",
    "split2 = (dataset[:4], dataset[4:])\n",
    "classes = list(set(row[-1] for row in dataset))\n",
    "\n",
    "print(\"Gini index for split 1:\", gini_index(split1, classes))\n",
    "print(\"Gini index for split 2:\", gini_index(split2, classes))\n"
   ]
  },
  {
   "cell_type": "markdown",
   "metadata": {},
   "source": [
    "In this case, the second split results in a Gini index of 0, which means it perfectly separates the classes. The CART algorithm would choose the minimal possible value for a split. \n",
    "\n",
    "\n",
    "### Other CART split metrics for classification  \n",
    "\n",
    "In addition to the Gini index, there are other metrics used for splitting nodes in decision trees. Two popular alternatives are `Information Gain` and `Gain Ratio`. Let's discuss each of them.\n",
    "\n",
    "#### Information Gain\n",
    "\n",
    "Information Gain is based on the concept of entropy, which measures the impurity of an input set. In the context of decision trees, it measures the reduction in entropy achieved by partitioning a dataset based on a particular feature. The attribute with the highest Information Gain is selected as the splitting attribute.\n",
    "\n",
    "Entropy is calculated using the following formula:\n",
    "\n",
    "$$ Entropy(S) = -Σ P(c) * log2(P(c))$$\n",
    "\n",
    "Where S is the dataset, c represents a class, and P(c) is the proportion of instances belonging to class c.\n",
    "\n",
    "Information Gain is calculated as:\n",
    "\n",
    "$$ InformationGain(S, A) = Entropy(S) - Σ (|Sv| / |S|) * Entropy(Sv) $$\n",
    "\n",
    "\n",
    "Where S is the dataset, A is the attribute we are considering, Sv is the subset of S where the attribute A has value v, and $|Sv| / |S|$ is the proportion of instances in Sv. \n",
    "\n",
    "#### Gain Ratio\n",
    "\n",
    "The Gain Ratio is an extension of Information Gain that takes into account the intrinsic information of an attribute. It is useful in dealing with the bias of Information Gain towards attributes with more distinct values.\n",
    "\n",
    "Gain Ratio is calculated as:\n",
    "\n",
    "$$ GainRatio(S, A) = InformationGain(S, A) / SplitInformation(S, A) $$\n",
    "\n",
    "Where SplitInformation(S, A) is the entropy of the attribute A.\n",
    "\n",
    "Now, let's discuss the differences between Gini and other metrics:\n",
    "\n",
    "- Gini index and Information Gain both measure impurity reduction, but Gini index is based on the probability of misclassifying an instance, while Information Gain is based on the concept of entropy. In general, Gini index tends to be more efficient computationally, while Information Gain can be more accurate in some cases.\n",
    "- Gain Ratio addresses the bias of Information Gain towards attributes with more distinct values. It normalizes the Information Gain by considering the intrinsic information of the attribute.\n",
    "- The choice of impurity measure may impact the structure of the resulting decision tree. However, in practice, the choice between Gini index, Information Gain, and Gain Ratio often leads to similar decision trees, and the performance differences are generally small.\n",
    "\n",
    "It's important to experiment with different impurity measures and evaluate their impact on the performance of the decision tree for a specific dataset or problem."
   ]
  },
  {
   "cell_type": "markdown",
   "metadata": {},
   "source": [
    "### CART metrics for regression \n",
    "\n",
    "In the case of regression trees, CART uses different metrics to measure the quality of a split. Instead of measuring impurity like in classification, it measures the variation in the target variable. Two common metrics for regression trees are Mean Squared Error (MSE) and Mean Absolute Error (MAE).\n",
    "\n",
    "We already seen the concept of MSE in the regression course, let's try to code it in a simple way in order to illustrate the difference between MSE and MAE on a simple toy test dataset. \n",
    "\n",
    "The MAE measures the average absolute difference between the predicted and true target values. Like the MSE, it is calculated as:\n",
    "\n",
    "$$MAE = (1 / N) * Σ |y_i - y_pred|$$\n",
    "\n",
    "Let's code this : "
   ]
  },
  {
   "cell_type": "code",
   "execution_count": 6,
   "metadata": {},
   "outputs": [
    {
     "name": "stdout",
     "output_type": "stream",
     "text": [
      "Mean Absolute Error for split 1: 5.5\n",
      "Mean Absolute Error for split 2: 5.0\n"
     ]
    }
   ],
   "source": [
    "def mean_absolute_error(groups):\n",
    "    total_instances = sum([len(group) for group in groups])\n",
    "    mae = 0.0\n",
    "    \n",
    "    for group in groups:\n",
    "        group_size = len(group)\n",
    "        if group_size == 0:\n",
    "            continue\n",
    "\n",
    "        group_mean = sum([row[-1] for row in group]) / group_size\n",
    "        group_mae = sum([abs(row[-1] - group_mean) for row in group]) / group_size\n",
    "        mae += group_mae * (group_size / total_instances)\n",
    "    \n",
    "    return mae\n",
    "\n",
    "\n",
    "def mean_squared_error(groups):\n",
    "    total_instances = sum([len(group) for group in groups])\n",
    "    mse = 0.0\n",
    "\n",
    "    for group in groups:\n",
    "        group_size = len(group)\n",
    "        if group_size == 0:\n",
    "            continue\n",
    "\n",
    "        group_mean = sum([row[-1] for row in group]) / group_size\n",
    "        group_mse = sum([(row[-1] - group_mean) ** 2 for row in group]) / group_size\n",
    "        mse += group_mse * (group_size / total_instances)\n",
    "\n",
    "    return mse\n",
    "\n",
    "\n",
    "#Now, let's consider a toy dataset with two features and a continuous target variable for the MAE illustration\n",
    "\n",
    "dataset = [\n",
    "    [1, 1, 10],\n",
    "    [1, 2, 12],\n",
    "    [2, 1, 20],\n",
    "    [2, 2, 22],\n",
    "    [3, 1, 30],\n",
    "    [3, 2, 32],\n",
    "    [4, 1, 40],\n",
    "    [4, 2, 42],\n",
    "]\n",
    "\n",
    "# Example splits:\n",
    "# Split 1: [1, 1, 10], [1, 2, 12] | [2, 1, 20], [2, 2, 22], [3, 1, 30], [3, 2, 32], [4, 1, 40], [4, 2, 42]\n",
    "# Split 2: [1, 1, 10], [1, 2, 12], [2, 1, 20], [2, 2, 22] | [3, 1, 30], [3, 2, 32], [4, 1, 40], [4, 2, 42]\n",
    "\n",
    "split1 = (dataset[:2], dataset[2:])\n",
    "split2 = (dataset[:4], dataset[4:])\n",
    "\n",
    "print(\"Mean Absolute Error for split 1:\", mean_absolute_error(split1))\n",
    "print(\"Mean Absolute Error for split 2:\", mean_absolute_error(split2))\n"
   ]
  },
  {
   "cell_type": "markdown",
   "metadata": {},
   "source": [
    "In this example, the second split results in a lower MAE, indicating that it's a better split for the regression problem.\n",
    "\n",
    "**Now, let's create a toy dataset of points and calculate the MAE and MSE for various splits and compare the results.**"
   ]
  },
  {
   "cell_type": "code",
   "execution_count": 8,
   "metadata": {},
   "outputs": [
    {
     "data": {
      "image/png": "[encoded data removed]",
      "text/plain": [
       "<Figure size 432x288 with 1 Axes>"
      ]
     },
     "metadata": {
      "needs_background": "light"
     },
     "output_type": "display_data"
    }
   ],
   "source": [
    "import numpy as np\n",
    "import matplotlib.pyplot as plt\n",
    "\n",
    "# Create a toy dataset\n",
    "np.random.seed(42)\n",
    "x = np.linspace(0, 10, 100)\n",
    "y = 2 * x + 1 + np.random.normal(0, 2, len(x))\n",
    "\n",
    "dataset = list(zip(x, y))\n",
    "\n",
    "# Calculate the MAE and MSE for various splits\n",
    "mae_values = []\n",
    "mse_values = []\n",
    "splits = np.arange(1, len(dataset))\n",
    "\n",
    "for split_idx in splits:\n",
    "    split1 = dataset[:split_idx]\n",
    "    split2 = dataset[split_idx:]\n",
    "    mae_values.append(mean_absolute_error([split1, split2]))\n",
    "    mse_values.append(mean_squared_error([split1, split2]))\n",
    "\n",
    "# Plot the MAE and MSE values\n",
    "plt.plot(splits, mae_values, color='blue', label='MAE')\n",
    "plt.plot(splits, mse_values, color='red', label='MSE')\n",
    "plt.xlabel('Split Index')\n",
    "plt.ylabel('Error Value')\n",
    "plt.legend()\n",
    "plt.title('MAE vs. MSE for Various Splits')\n",
    "plt.show()\n"
   ]
  },
  {
   "cell_type": "markdown",
   "metadata": {},
   "source": [
    "This code generates a toy dataset of points along a line with some random noise. It then calculates the MAE and MSE for various splits and plots the error values on a single graph with two distinct colors. The graph demonstrates how MAE and MSE values change depending on the chosen split.\n",
    "\n",
    "**The main difference between MAE and MSE is how they penalize large errors. MSE squares the errors, which makes larger errors more prominent in the final error value. In contrast, MAE treats all errors linearly. As a result, MSE is more sensitive to outliers, while MAE is more robust to them.** \n",
    "\n",
    "The choice between MAE and MSE depends on the problem at hand and whether it's more important to penalize large errors or maintain robustness to outliers."
   ]
  },
  {
   "cell_type": "markdown",
   "metadata": {},
   "source": [
    "## Exemple avec des données simulées"
   ]
  },
  {
   "cell_type": "markdown",
   "metadata": {},
   "source": [
    "Commencons par coder un petit exemple afin de comprendre le fonctionnement d'un arbre dans le cadre de la régression : estimer une fonction sinus. \n",
    "\n",
    "Si le mot sinus vous rappelle des mauvais souvenirs d’école, sachez que les fonctions sinusoïdales sont loin d'être des notions abstraites, elles sont partout dans ce qui nous entoure comme le déplacement des ondes, la simulation de vibrations pour tester la résistance des matériaux et bien d’autres choses encore 🤓\n",
    "\n",
    "\n",
    "### Simulation des données\n",
    "\n",
    "Pour cet exemple, nous simulons une fonction sinus avec des bruits aléatoires et indépendants."
   ]
  },
  {
   "cell_type": "code",
   "execution_count": 11,
   "metadata": {},
   "outputs": [],
   "source": [
    "import numpy as np\n",
    "import matplotlib.pyplot as plt\n",
    "from sklearn import tree\n",
    "from sklearn.tree import DecisionTreeRegressor"
   ]
  },
  {
   "cell_type": "code",
   "execution_count": 12,
   "metadata": {},
   "outputs": [],
   "source": [
    "# construisons notre dataset exemple \n",
    "rng = np.random.RandomState(1)\n",
    "X = np.sort(5 * rng.rand(80, 1), axis=0)\n",
    "y = np.sin(X).ravel()\n",
    "# on ajoute du bruit afin d'avoir de meilleurs données \n",
    "y[::5] += 3 * (0.5 - rng.rand(16))"
   ]
  },
  {
   "cell_type": "markdown",
   "metadata": {},
   "source": [
    "## L’importance de la variation d’ un hyperparamètre dans l'arbres de régression\n",
    "\n",
    "Comme on l’a vu précédemment, ici nous cherchons à estimer notre varible cible `Y` (une fonction sinus) avec des données `X` 🤓\n",
    "\n",
    "La première chose que nous allons commencer par comprendre le fonctionnement d’un hyperparamètre dans le cas  d'un arbre de régression. Un hyperparamètre est un parametre dont la valeur est utilisée pour controler le procesus d'apprentissage.\n",
    "\n",
    "Pour bien comprendre cette notion, nous allons créer 4 arbres de régression ayant une profondeur (notre hyperparametre) différente, respectivement 2, 3, 4 et 6. Pour chacun des arbres :\n",
    "\n",
    "- On crée l'objet *scikit-learn* permettant d'effectuer une régression sur nos données avec un arbre de décision\n",
    "- On optimise (fit) l'arbre sur nos données\n",
    "- On prédit (predict) l'arbre sur des données simulées"
   ]
  },
  {
   "cell_type": "code",
   "execution_count": 13,
   "metadata": {},
   "outputs": [],
   "source": [
    "# Fit regression model\n",
    "regressors = []\n",
    "depths = [2, 3, 4, 6]\n",
    "X_test = np.arange(0.0, 5.0, 0.01)[:, np.newaxis]\n",
    "Y_test = []\n",
    "for p in depths:\n",
    "    reg = DecisionTreeRegressor(max_depth=p)  # Création d'un arbre de régression de profondeur p\n",
    "    reg.fit(X, y)  # Processus d'optimisation de l'arbre\n",
    "    Y_test.append(reg.predict(X_test))  # On prédit sur les données et on ajoute à la liste des valeurs prédites\n",
    "    regressors.append(reg)"
   ]
  },
  {
   "cell_type": "markdown",
   "metadata": {},
   "source": [
    "Enfin, nous pouvons afficher les données d'entrées et les valeurs prédites pour chaqun de nos arbres."
   ]
  },
  {
   "cell_type": "code",
   "execution_count": 14,
   "metadata": {},
   "outputs": [
    {
     "data": {
      "image/png": "[encoded data removed]",
      "text/plain": [
       "<Figure size 1152x720 with 4 Axes>"
      ]
     },
     "metadata": {
      "needs_background": "light"
     },
     "output_type": "display_data"
    }
   ],
   "source": [
    "#plot option\n",
    "plt.figure(figsize=(16, 10))\n",
    "colors = [ \"darkgray\", \"cornflowerblue\", \"yellowgreen\", \"lightcoral\"]\n",
    "\n",
    "#for loop to print all the trees\n",
    "for i, reg in zip(range(len(regressors)), regressors):\n",
    "    #define the figure inside the subplot \n",
    "    plt.subplot(220 + i + 1)\n",
    "    plt.plot(X_test, Y_test[i], color=colors[i], label=\"Profondeur {0}\".format(depths[i]), linewidth=2)\n",
    "    #plot the data in the figure\n",
    "    plt.scatter(X, y, s=30, c=\"darkorange\", label=\"data\")\n",
    "    #plot otpions \n",
    "    plt.xlabel(\"Valeur explicative\")\n",
    "    plt.ylabel(\"Valeur réponse\")\n",
    "    plt.title(\"Visualisation de l'arbre de régression\")\n",
    "    plt.legend()\n",
    "#save the figure     \n",
    "plt.savefig(\"deep_illustration.png\")\n",
    "plt.show()"
   ]
  },
  {
   "cell_type": "markdown",
   "metadata": {},
   "source": [
    "## Explication théorique \n",
    "\n",
    "On ne considère que l'arbre de profondeur $d=2$. Si $d=2$, alors il y a $3$ **splits** (ou coupures), notés $t_1, t_2$ et $t_3$. Commençons par le début :\n",
    "\n",
    "Initialement, il n'y a pas de coupure. On s'interroge donc à comment calculer $t_1$, pour obtenir la règle $X \\leq t_1$. Pour cela, on doit introduire une **métrique de perte**, c'est-à-dire une fonction qui nous indique si la coupure est bonne ou pas. Tout comme pour la régression linéaire, nous avons envie de considérer la distance des moindres carrés entre la valeur théorique $y$ et la valeur prédire $\\hat{y}$. On veut donc couper de sorte à **minimiser** cette perte quadratique à gauche de $t_1$, mais également à droite de $t_1$.\n",
    "\n",
    "Soyons plus formel. Appelons $R_G = \\{ X : X \\leq t_1 \\}$ l'ensemble à gauche de $t_1$ et $R_D=\\{ X : X > t_1 \\}$ l'ensemble à droite de $t_1$. On a dit vouloir minimiser la perte quadratique, c'est-à-dire résoudre\n",
    "\n",
    "$$\\min_{t_1 \\in \\mathbb{R}} \\sum_{i=1}^n (y_i-\\hat{y})$$\n",
    "\n",
    "Problème : $t_1$ n'intervient pas dans la somme ! Puisqu'il s'agit d'un split, il faut à la fois considérer lorsque le point est soit dans $R_G$, soit dans $R_D$. De plus, puisque l'on veut attribuer un poids à chaque noeud, qui ici définira la valeur prédite $\\hat{y}$, nous devons introduire $c_G$ et $c_D$, que l'on interprète comme ceci :\n",
    "\n",
    "- Tous les points $X$ qui appartiennent à $R_G$ (soit inférieurs à $t_1$) auront pour valeur prédite $c_G$.\n",
    "- Tous les points $X$ qui appartiennent à $R_D$ (soit strictement supérieurs à $t_1$) auront pour valeur prédite $c_D$.\n",
    "\n",
    "Mais ces poids doivent aussi être optimisés afin d'être calibré selon nos données. Dès lors, on obtient une formule beaucoup plus applicable numériquement :\n",
    "\n",
    "$$\\min_{t_1 \\in \\mathbb{R}} \\left(\\min_{c_G \\in \\mathbb{R}} \\sum_{x_i \\in R_G} (y_i-c_G)^2 +\\min_{c_D \\in \\mathbb{R}} \\sum_{x_i \\in R_D} (y_i-c_D)^2 \\right)$$\n",
    "\n",
    "On peut simplifier le problème tel que :\n",
    "\n",
    "$$\\min_{t_1 \\in \\mathbb{R}} \\left( \\sum_{x_i \\in R_G} (y_i-\\hat{c_G})^2 + \\sum_{x_i \\in R_D} (y_i-\\hat{c_D})^2 \\right)$$"
   ]
  },
  {
   "cell_type": "markdown",
   "metadata": {},
   "source": [
    "## Questions 🤔\n",
    "\n",
    "- Comparez les graphiques obtenus et déduire le rôle de l'hyperparamètre profondeur `max_depth` ? \n",
    "- Expliquer le phénomène de sous-apprentissage à l'aide des graphiques ci-dessus, pour quelle valeur de `max_depth` notre algorithme est en sous-apprentissage? \n",
    "- Expliquer le phénomène de sur-apprentissage à l'aide des graphiques ci-dessus pour quelle valeur de `max_depth` notre algorithme est en sur-apprentissage? \n",
    "- Finalement, quelle est la meilleur valeur pour l'hyperparamètre profondeur `max_depth` ? "
   ]
  },
  {
   "cell_type": "code",
   "execution_count": null,
   "metadata": {},
   "outputs": [],
   "source": []
  },
  {
   "cell_type": "markdown",
   "metadata": {},
   "source": [
    "# CART cooding from scratch \n",
    "\n",
    "The objective of this project is to build a custom CART Decision Tree Regressor from scratch without relying on external libraries like Scikit-learn 😃\n",
    "\n",
    "The regressor will be implemented in Python and should be able to handle simple regression tasks.\n",
    "\n",
    "## Project Outline\n",
    "\n",
    "- Understand the CART algorithm and its components.\n",
    "- Implement the DecisionTreeRegressor class.\n",
    "- Write functions for splitting the data and calculating the errors.\n",
    "- Visualize the performance of the custom regressor on a toy dataset.\n",
    "\n",
    "First let's define a `DecisionTreeRegressor` class, which has an optional parameter `max_depth` that determines the maximum depth of the decision tree. If max_depth is not specified, the tree can grow without depth restrictions."
   ]
  },
  {
   "cell_type": "code",
   "execution_count": 15,
   "metadata": {},
   "outputs": [],
   "source": [
    "class DecisionTreeRegressor:\n",
    "    def __init__(self, max_depth=None):\n",
    "        self.max_depth = max_depth"
   ]
  },
  {
   "cell_type": "markdown",
   "metadata": {},
   "source": [
    "Now let's create a Node class. The Node class represents a node in the decision tree. It has a constructor `__init__(self, left=None, right=None, value=None, split_feature=None, split_value=None)` which initializes the node object with left and right child nodes, the node's value, and the split feature and value (for non-leaf nodes)."
   ]
  },
  {
   "cell_type": "code",
   "execution_count": 16,
   "metadata": {},
   "outputs": [],
   "source": [
    "class Node:\n",
    "    def __init__(self, left=None, right=None, value=None, split_feature=None, split_value=None):\n",
    "        self.left = left\n",
    "        self.right = right\n",
    "        self.value = value\n",
    "        self.split_feature = split_feature\n",
    "        self.split_value = split_value\n"
   ]
  },
  {
   "cell_type": "markdown",
   "metadata": {},
   "source": [
    "Now let's define some important concepts : \n",
    "\n",
    "- The `fit(self, X, y)` takes the input features (X) and the target variable (y) as arguments, and builds the decision tree by calling the _build_tree helper function.\n",
    "- The `predict(self, X)` method takes an array of input features (X) and returns the predicted target variable for each input by calling the `_predict_single` helper function.\n",
    "- The `_build_tree(self, X, y, depth)` helper function is a recursive function that builds the decision tree by finding the best split for the data and creating child nodes until the stopping criteria (maximum depth) are met. It takes the input features X, target variable y, and the current depth of the tree. If the current depth exceeds max_depth or there is no optimal feature to split on, it creates a leaf node with the mean value of y. Otherwise, it calculates the best feature and value to split the data, creates left and right child nodes, and recurses on both subsets of the data.\n",
    "- The `_find_best_split(self, X, y)` helper function finds the best feature and value to split the data on by minimizing the mean squared error (MSE). It iterates through all possible features and split values, calculates the MSE for each split, and returns the best feature and split value that result in the lowest MSE.\n",
    "- The `_predict_single(self, x)` helper function takes a single input feature vector x and predicts the target variable for it. It traverses the decision tree from the root, following the left or right child nodes based on the split feature and value, until it reaches a leaf node. The value of the leaf node is the predicted target variable."
   ]
  },
  {
   "cell_type": "code",
   "execution_count": 25,
   "metadata": {},
   "outputs": [],
   "source": [
    "#entier code \n",
    "import numpy as np\n",
    "\n",
    "# Define the main DecisionTreeRegressor class\n",
    "class DecisionTreeRegressor:\n",
    "    # Class constructor with an optional parameter `max_depth` for the maximum depth of the tree\n",
    "    def __init__(self, max_depth=None):\n",
    "        self.max_depth = max_depth\n",
    "\n",
    "    # Define the inner Node class representing a node in the decision tree\n",
    "    class Node:\n",
    "        # Node class constructor with parameters for the left and right child nodes, value, split feature, and split value\n",
    "        def __init__(self, left=None, right=None, value=None, split_feature=None, split_value=None):\n",
    "            self.left = left\n",
    "            self.right = right\n",
    "            self.value = value\n",
    "            self.split_feature = split_feature\n",
    "            self.split_value = split_value\n",
    "\n",
    "    # `fit` method takes the input features (X) and target variable (y) and builds the decision tree\n",
    "    def fit(self, X, y):\n",
    "        self.root = self._build_tree(X, y, 0)\n",
    "\n",
    "    # `predict` method takes input features (X) and returns predictions for each input\n",
    "    def predict(self, X):\n",
    "        return [self._predict_single(x) for x in X]\n",
    "\n",
    "    # Recursive helper function `_build_tree` for building the decision tree\n",
    "    def _build_tree(self, X, y, depth):\n",
    "        if len(y) == 0:\n",
    "            return None\n",
    "\n",
    "        if self.max_depth is not None and depth >= self.max_depth:\n",
    "            return self.Node(value=np.mean(y))\n",
    "\n",
    "        split_feature, split_value = self._find_best_split(X, y)\n",
    "        if split_feature is None:\n",
    "            return self.Node(value=np.mean(y))\n",
    "\n",
    "        left_mask = X[:, split_feature] <= split_value\n",
    "        right_mask = ~left_mask\n",
    "\n",
    "        left_node = self._build_tree(X[left_mask], y[left_mask], depth + 1)\n",
    "        right_node = self._build_tree(X[right_mask], y[right_mask], depth + 1)\n",
    "\n",
    "        return self.Node(left=left_node, right=right_node, split_feature=split_feature, split_value=split_value)\n",
    "\n",
    "    # Helper function `_find_best_split` to find the best feature and value to split the data\n",
    "    def _find_best_split(self, X, y):\n",
    "        best_mse = float(\"inf\")\n",
    "        best_split_feature = None\n",
    "        best_split_value = None\n",
    "\n",
    "        for feature in range(X.shape[1]):\n",
    "            feature_values = X[:, feature]\n",
    "            for value in feature_values:\n",
    "                left_mask = feature_values <= value\n",
    "                right_mask = ~left_mask\n",
    "\n",
    "                left_y = y[left_mask]\n",
    "                right_y = y[right_mask]\n",
    "\n",
    "                if len(left_y) <= 1 or len(right_y) <= 1:\n",
    "                    continue\n",
    "\n",
    "                mse = len(left_y) * np.var(left_y) + len(right_y) * np.var(right_y)\n",
    "                if mse < best_mse:\n",
    "                    best_mse = mse\n",
    "                    best_split_feature = feature\n",
    "                    best_split_value = value\n",
    "\n",
    "        return best_split_feature, best_split_value\n",
    "\n",
    "    # Helper function `_predict_single` for predicting the target variable for a single input feature vector\n",
    "    def _predict_single(self, x):\n",
    "        node = self.root\n",
    "        while node.left is not None and node.right is not None:\n",
    "            if x[node.split_feature] <= node.split_value:\n",
    "                node = node.left\n",
    "            else:\n",
    "                node = node.right\n",
    "\n",
    "        return node.value\n"
   ]
  },
  {
   "cell_type": "markdown",
   "metadata": {},
   "source": [
    "Now let's generate our toy sample dataset then apply our `DecisionTreeRegressor` class :"
   ]
  },
  {
   "cell_type": "code",
   "execution_count": 27,
   "metadata": {},
   "outputs": [
    {
     "data": {
      "image/png": "[encoded data removed]",
      "text/plain": [
       "<Figure size 1152x720 with 4 Axes>"
      ]
     },
     "metadata": {
      "needs_background": "light"
     },
     "output_type": "display_data"
    }
   ],
   "source": [
    "import matplotlib.pyplot as plt\n",
    "\n",
    "np.random.seed(42)\n",
    "X = np.linspace(0, 10, 100)[:, np.newaxis]\n",
    "y = 2 * X.ravel() + 1 + np.random.normal(0, 2, len(X))\n",
    "\n",
    "X_test = np.arange(0.0, 5.0, 0.01)[:, np.newaxis]\n",
    "\n",
    "regressors = []\n",
    "depths = [2, 3, 4, 6]\n",
    "Y_test = []\n",
    "for p in depths:\n",
    "    reg = DecisionTreeRegressor(max_depth=p)\n",
    "    reg.fit(X, y)\n",
    "    Y_test.append(reg.predict(X_test))\n",
    "    regressors.append(reg)\n",
    "\n",
    "plt.figure(figsize=(16, 10))\n",
    "colors = [\"darkgray\", \"cornflowerblue\", \"yellowgreen\", \"lightcoral\"]\n",
    "\n",
    "# for loop to print all the trees\n",
    "for i, reg in zip(range(len(regressors)), regressors):\n",
    "    # define the figure inside the subplot\n",
    "    plt.subplot(220 + i + 1)\n",
    "    plt.plot(X_test, Y_test[i], color=colors[i], label=\"Deep: {0}\".format(depths[i]), linewidth=2)\n",
    "    # plot the data in the figure\n",
    "    plt.scatter(X, y, s=30, c=\"darkorange\", label=\"data\")\n",
    "    # plot options\n",
    "    plt.xlabel(\"Feature\")\n",
    "    plt.ylabel(\"Target\")\n",
    "    plt.title(\"Tree visualization\")\n",
    "    plt.legend()\n",
    "\n",
    "# save the figure\n",
    "plt.savefig(\"deep_illustration.png\")\n",
    "plt.show()\n",
    "\n"
   ]
  },
  {
   "cell_type": "code",
   "execution_count": null,
   "metadata": {},
   "outputs": [],
   "source": []
  }
 ],
 "metadata": {
  "kernelspec": {
   "display_name": "Python 3",
   "language": "python",
   "name": "python3"
  },
  "language_info": {
   "codemirror_mode": {
    "name": "ipython",
    "version": 3
   },
   "file_extension": ".py",
   "mimetype": "text/x-python",
   "name": "python",
   "nbconvert_exporter": "python",
   "pygments_lexer": "ipython3",
   "version": "3.7.0"
  },
  "latex_envs": {
   "LaTeX_envs_menu_present": true,
   "autoclose": false,
   "autocomplete": true,
   "bibliofile": "biblio.bib",
   "cite_by": "apalike",
   "current_citInitial": 1,
   "eqLabelWithNumbers": true,
   "eqNumInitial": 1,
   "hotkeys": {
    "equation": "Ctrl-E",
    "itemize": "Ctrl-I"
   },
   "labels_anchors": false,
   "latex_user_defs": false,
   "report_style_numbering": false,
   "user_envs_cfg": false
  },
  "toc": {
   "base_numbering": 1,
   "nav_menu": {},
   "number_sections": true,
   "sideBar": true,
   "skip_h1_title": false,
   "title_cell": "Table of Contents",
   "title_sidebar": "Contents",
   "toc_cell": false,
   "toc_position": {},
   "toc_section_display": true,
   "toc_window_display": true
  },
  "varInspector": {
   "cols": {
    "lenName": 16,
    "lenType": 16,
    "lenVar": 40
   },
   "kernels_config": {
    "python": {
     "delete_cmd_postfix": "",
     "delete_cmd_prefix": "del ",
     "library": "var_list.py",
     "varRefreshCmd": "print(var_dic_list())"
    },
    "r": {
     "delete_cmd_postfix": ") ",
     "delete_cmd_prefix": "rm(",
     "library": "var_list.r",
     "varRefreshCmd": "cat(var_dic_list()) "
    }
   },
   "types_to_exclude": [
    "module",
    "function",
    "builtin_function_or_method",
    "instance",
    "_Feature"
   ],
   "window_display": false
  }
 },
 "nbformat": 4,
 "nbformat_minor": 2
}
