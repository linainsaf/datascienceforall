{
  "cells": [
    {
      "attachments": {},
      "cell_type": "markdown",
      "metadata": {
        "id": "6ovxFKAAj2to"
      },
      "source": [
        "# Sentiment Analysis with RNN-LSTM"
      ]
    },
    {
      "cell_type": "code",
      "execution_count": null,
      "metadata": {
        "id": "eWLHKoG6j2tp"
      },
      "outputs": [],
      "source": [
        "# Dans ce notebook, nous allons nous intéresser à des tâches d'analyse de sentiments\n",
        "# -> c'est à dire prédire un label de sentiment (ici positif ou négatif) à partir d'un texte\n",
        "\n",
        "# Ce notebook vise à approfondir : \n",
        "# - L'application du DL sur des données textuelles\n",
        "# - La compréhension des architectures RNN avancées comme les LSTM et les mécanismes d'attention\n",
        "#"
      ]
    },
    {
      "cell_type": "markdown",
      "metadata": {
        "id": "sTC0SJwEj2tq"
      },
      "source": [
        "# Importation des modules"
      ]
    },
    {
      "cell_type": "code",
      "execution_count": null,
      "metadata": {
        "id": "DfDpiDv4j2tq"
      },
      "outputs": [],
      "source": [
        "# On importe les librairies usuelless\n",
        "import math\n",
        "import numpy as np\n",
        "import matplotlib.pyplot as plt\n",
        "import tensorflow as tf\n",
        "\n",
        "# On désactive les warnings\n",
        "import warnings\n",
        "warnings.filterwarnings('ignore')\n"
      ]
    },
    {
      "cell_type": "markdown",
      "metadata": {
        "id": "kt2bfDIwoZ_3"
      },
      "source": [
        "# Fonction utile "
      ]
    },
    {
      "cell_type": "code",
      "execution_count": null,
      "metadata": {
        "id": "SfGk7PHXoV7w"
      },
      "outputs": [],
      "source": [
        "def plot_history(history):\n",
        "  # On trace la loss et l'accuracy du modèle\n",
        "  # On trace l'évolution de l'accuracy\n",
        "  plt.plot(history.history['accuracy'])\n",
        "  plt.plot(history.history['val_accuracy']) \n",
        "  plt.title('model accuracy')\n",
        "  plt.ylabel('accuracy')\n",
        "  plt.xlabel('epoch')\n",
        "  plt.legend(['train', 'test'], loc='upper left')\n",
        "  plt.show()\n",
        "  # On trace l'évolution de la loss\n",
        "  plt.plot(history.history['loss'])\n",
        "  plt.plot(history.history['val_loss'])\n",
        "  plt.title('model loss')\n",
        "  plt.ylabel('loss')\n",
        "  plt.xlabel('epoch')\n",
        "  plt.legend(['train', 'test'], loc='upper left')\n",
        "  plt.show()"
      ]
    },
    {
      "cell_type": "code",
      "execution_count": null,
      "metadata": {
        "id": "D4yyKoT-o8hi"
      },
      "outputs": [],
      "source": [
        "def predict(model):\n",
        "\n",
        "  # On prédit sur l'ensemble de test\n",
        "\n",
        "  # On prédit sur les données de test\n",
        "  y_hat = model.predict(x_test)\n",
        "\n",
        "  # On tranforme les prédictions en labels\n",
        "  i_pos = [i for i in range(len(y_hat)) if y_hat[i]>0]\n",
        "  i_neg = [i for i in range(len(y_hat)) if y_hat[i]<=0]\n",
        "\n",
        "  y_pred   = np.zeros(len(y_hat))\n",
        "  y_pred[i_pos] = 1\n",
        "  y_pred[i_neg] = 0\n",
        "  return y_pred"
      ]
    },
    {
      "cell_type": "markdown",
      "metadata": {
        "id": "uwOjTZYej2tq"
      },
      "source": [
        "## 1. Charger les données"
      ]
    },
    {
      "cell_type": "code",
      "execution_count": null,
      "metadata": {
        "id": "2PcQTK_8j2tq"
      },
      "outputs": [],
      "source": [
        "# On charge directement la base IMDB par les datasets de Keras\n",
        "# La méthode load_date possède pas mal d'options et de propriétés intéressantes (voir description) :\n",
        "# 1) Sépare les jeux d'entrainement et de test\n",
        "# 2) num_words : Top most frequent words to consider.\n",
        "# 3) skip_top : Top most frequent words to ignore (they will appear as oov_char value in the sequence data).\n",
        "# 4) maxlen : Maximum sequence length. Any longer sequence will be truncated.\n",
        "# 5) seed : Seed for reproducible data shuffling.\n",
        "# 6) start_char : The start of a sequence will be marked with this character. Set to 1 because 0 is usually the padding character.\n",
        "# 7) oov_char : words that were cut out because of the num_words or skip_top limit will be replaced with this character.\n",
        "# 8) index_from : Index actual words with this index and higher.\n",
        "\n",
        "from tensorflow.keras.datasets import imdb\n",
        "\n",
        "num_words = 5000\n",
        "max_len   =  100\n",
        "\n",
        "(x_train, y_train), (x_test, y_test) = imdb.load_data(num_words=num_words,\n",
        "                                                      maxlen=max_len)\n",
        "                                            "
      ]
    },
    {
      "cell_type": "markdown",
      "metadata": {
        "id": "iUWPA8buj2tq"
      },
      "source": [
        "## 2. Formater/Préparer les données"
      ]
    },
    {
      "cell_type": "code",
      "execution_count": null,
      "metadata": {
        "colab": {
          "base_uri": "https://localhost:8080/"
        },
        "id": "h7BzHLIcj2tr",
        "outputId": "6e9a1f2c-ab7d-43f4-d0f1-564fe454e9a9"
      },
      "outputs": [
        {
          "name": "stdout",
          "output_type": "stream",
          "text": [
            "La phrase avant padding est : \n",
            " [1, 778, 128, 74, 12, 630, 163, 15, 4, 1766, 2, 1051, 2, 32, 85, 156, 45, 40, 148, 139, 121, 664, 665, 10, 10, 1361, 173, 4, 749, 2, 16, 3804, 8, 4, 226, 65, 12, 43, 127, 24, 2, 10, 10]\n",
            "La phrase paddée sur une longueur 100 est : \n",
            " [   0    0    0    0    0    0    0    0    0    0    0    0    0    0\n",
            "    0    0    0    0    0    0    0    0    0    0    0    0    0    0\n",
            "    0    0    0    0    0    0    0    0    0    0    0    0    0    0\n",
            "    0    0    0    0    0    0    0    0    0    0    0    0    0    0\n",
            "    0    1  778  128   74   12  630  163   15    4 1766    2 1051    2\n",
            "   32   85  156   45   40  148  139  121  664  665   10   10 1361  173\n",
            "    4  749    2   16 3804    8    4  226   65   12   43  127   24    2\n",
            "   10   10]\n",
            "2773\n"
          ]
        }
      ],
      "source": [
        "from tensorflow.keras.preprocessing.sequence import pad_sequences\n",
        "\n",
        "# On padde les séquences\n",
        "\n",
        "print(\"La phrase avant padding est : \\n {}\". format(x_train[0]))\n",
        "\n",
        "# On padde les séquence de mot\n",
        "max_len     = 100\n",
        "x_train       =  pad_sequences(x_train, maxlen=max_len, truncating='post')\n",
        "x_test        = pad_sequences(x_test, maxlen=max_len, truncating='post')\n",
        "\n",
        "print(\"La phrase paddée sur une longueur {} est : \\n {}\". format(max_len, x_train[0]))\n",
        "      \n",
        "print(len(x_train))    "
      ]
    },
    {
      "cell_type": "code",
      "execution_count": null,
      "metadata": {
        "id": "pPVMT3m6C4R9"
      },
      "outputs": [],
      "source": [
        "y_train = tf.keras.utils.to_categorical(y_train, 2)\n",
        "y_test = tf.keras.utils.to_categorical(y_test, 2)\n"
      ]
    },
    {
      "cell_type": "markdown",
      "metadata": {
        "id": "vC4r3IT1j2ts"
      },
      "source": [
        "## 3. Déclaration du réseau"
      ]
    },
    {
      "cell_type": "markdown",
      "metadata": {
        "id": "yJE2oW-Xj2ts"
      },
      "source": [
        "La tâche consiste à prédire la valence d'un texte à partir de son contenu.\n",
        "Pour ce faire nous allons créer une architecture many-to-one \n",
        "avec les réseaux RNNs\n",
        "Le problème consiste à implémenter et apprendre\n",
        "des réseaux avec - par exemple - les configurations suivantes : \n",
        "On va comparer les configurations suivantes : \n",
        "- Simple RNN avec dropout (avec un taux de 25% en sortie du RNN)\n",
        "- RNN-LSTM gauche-droite classique\n",
        "- LSTM bi-directionnel et return_sequences = False\n",
        "- Plusieurs couches au choix. On veillera en particulier \n",
        "  à la valeur des arguments return_sequences\n",
        "  \n",
        "Dans le rapport à faire directement dans le notebook, on prendra soin de :\n",
        "- reporter les losses sur les ensembles d'entrainement et de validation\n",
        "- mesurer l'accuracy sur l'ensemble de test\n",
        "On commentera les résultats obtenus en comparant les configurations\n",
        "Quelle est la configuration donnant la meilleure performance ? \n",
        "Pourquoi ?\n",
        "\n",
        "Aide : une couche LSTM bi-directionnelle est obtenue en appliquant sur la même couche une couche LSTM et une couche Bidirectional"
      ]
    },
    {
      "cell_type": "markdown",
      "metadata": {
        "id": "up6fjdQjkzL9"
      },
      "source": [
        "# Simple RNN avec dropout (avec un taux de 25% en sortie du RNN)"
      ]
    },
    {
      "cell_type": "code",
      "execution_count": null,
      "metadata": {
        "colab": {
          "base_uri": "https://localhost:8080/"
        },
        "id": "HWA5HqtOj2ts",
        "outputId": "78368297-bfcf-41ef-a49c-11af217ee1c8"
      },
      "outputs": [
        {
          "name": "stdout",
          "output_type": "stream",
          "text": [
            "Model: \"sequential_3\"\n",
            "_________________________________________________________________\n",
            " Layer (type)                Output Shape              Param #   \n",
            "=================================================================\n",
            " embedding_3 (Embedding)     (None, None, 128)         640000    \n",
            "                                                                 \n",
            " simple_rnn_3 (SimpleRNN)    (None, 64)                12352     \n",
            "                                                                 \n",
            " dropout_3 (Dropout)         (None, 64)                0         \n",
            "                                                                 \n",
            " dense_3 (Dense)             (None, 2)                 130       \n",
            "                                                                 \n",
            "=================================================================\n",
            "Total params: 652,482\n",
            "Trainable params: 652,482\n",
            "Non-trainable params: 0\n",
            "_________________________________________________________________\n"
          ]
        }
      ],
      "source": [
        "# On importe les librairies pour le RNN\n",
        "from tensorflow.keras.layers import Dense , Input , SimpleRNN, LSTM , Embedding, Dropout\n",
        "from tensorflow.keras.layers import Bidirectional, GlobalMaxPool1D\n",
        "from tensorflow.keras.models import Model, Sequential\n",
        "from tensorflow.keras.layers import Convolution1D,MaxPooling1D\n",
        "from tensorflow.keras.losses import BinaryCrossentropy\n",
        "from tensorflow.keras.optimizers import  Adam\n",
        "#from tensorflow.keras import initializers, regularizers, constraints, optimizers, layers\n",
        "\n",
        "embed_size = 128                                                   # dimension de l'embedding\n",
        "RNN_size   = 64\n",
        "\n",
        "# Example d'architecture pour le réseau RNN simple avec dropout\n",
        "model_rnn_simple = Sequential()\n",
        "model_rnn_simple.add(Embedding(num_words, embed_size))                 # layer embedding\n",
        "model_rnn_simple.add(SimpleRNN(RNN_size, return_sequences = False))    # layer RNN\n",
        "model_rnn_simple.add(Dropout(0.25))                                    # layer Dropout\n",
        "model_rnn_simple.add(Dense(2, activation='softmax'))                                         # layer Dense\n",
        "\n",
        "# On affiche l'architecture de notre modèle\n",
        "model_rnn_simple.summary()\n",
        "\n",
        "# On spécifie la fonction de perte, l'optimiseur, et la fonction d'évaluation\n",
        "model_rnn_simple.compile(loss='binary_crossentropy', optimizer='adam', metrics=['accuracy'])\n"
      ]
    },
    {
      "cell_type": "markdown",
      "metadata": {
        "id": "LMDSWB90j2tt"
      },
      "source": [
        "## 4. Entrainement du réseau"
      ]
    },
    {
      "cell_type": "code",
      "execution_count": null,
      "metadata": {
        "colab": {
          "base_uri": "https://localhost:8080/"
        },
        "id": "d3r5Swu9j2tt",
        "outputId": "dde49df4-95ba-4f13-b54d-e2922198d866",
        "scrolled": true
      },
      "outputs": [
        {
          "name": "stdout",
          "output_type": "stream",
          "text": [
            "Epoch 1/10\n",
            "35/35 [==============================] - 5s 96ms/step - loss: 0.6893 - accuracy: 0.5401 - val_loss: 0.6702 - val_accuracy: 0.5856\n",
            "Epoch 2/10\n",
            "35/35 [==============================] - 2s 51ms/step - loss: 0.5108 - accuracy: 0.8458 - val_loss: 0.6418 - val_accuracy: 0.6378\n",
            "Epoch 3/10\n",
            "35/35 [==============================] - 2s 55ms/step - loss: 0.1892 - accuracy: 0.9775 - val_loss: 0.7873 - val_accuracy: 0.5676\n",
            "Epoch 4/10\n",
            "35/35 [==============================] - 2s 50ms/step - loss: 0.0385 - accuracy: 0.9991 - val_loss: 0.8978 - val_accuracy: 0.5477\n",
            "Epoch 5/10\n",
            "35/35 [==============================] - 2s 57ms/step - loss: 0.0108 - accuracy: 1.0000 - val_loss: 0.9641 - val_accuracy: 0.5568\n",
            "Epoch 6/10\n",
            "35/35 [==============================] - 2s 52ms/step - loss: 0.0056 - accuracy: 1.0000 - val_loss: 1.0093 - val_accuracy: 0.5459\n",
            "Epoch 7/10\n",
            "35/35 [==============================] - 3s 76ms/step - loss: 0.0038 - accuracy: 1.0000 - val_loss: 1.0477 - val_accuracy: 0.5423\n",
            "Epoch 8/10\n",
            "35/35 [==============================] - 2s 58ms/step - loss: 0.0028 - accuracy: 1.0000 - val_loss: 1.0800 - val_accuracy: 0.5441\n",
            "Epoch 9/10\n",
            "35/35 [==============================] - 2s 50ms/step - loss: 0.0022 - accuracy: 1.0000 - val_loss: 1.1063 - val_accuracy: 0.5495\n",
            "Epoch 10/10\n",
            "35/35 [==============================] - 2s 48ms/step - loss: 0.0017 - accuracy: 1.0000 - val_loss: 1.1332 - val_accuracy: 0.5423\n"
          ]
        }
      ],
      "source": [
        "# On entraine le réseau\n",
        "batch_size = 64                                                             # tailles des mini-batch\n",
        "epochs = 10                                                                 # nombre d'époques\n",
        "history_rnn_simple = model_rnn_simple.fit(x_train,y_train, batch_size=batch_size, epochs=epochs, validation_split=0.2) # on entraine"
      ]
    },
    {
      "cell_type": "code",
      "execution_count": null,
      "metadata": {
        "colab": {
          "base_uri": "https://localhost:8080/",
          "height": 573
        },
        "id": "GaA4Vx2roRHx",
        "outputId": "0ac0d4e4-1d86-497e-bb9e-aced58e4654c"
      },
      "outputs": [
        {
          "data": {
            "image/png": "[encoded data removed]",
            "text/plain": [
              "<Figure size 432x288 with 1 Axes>"
            ]
          },
          "metadata": {
            "needs_background": "light"
          },
          "output_type": "display_data"
        },
        {
          "data": {
            "image/png": "[encoded data removed]",
            "text/plain": [
              "<Figure size 432x288 with 1 Axes>"
            ]
          },
          "metadata": {
            "needs_background": "light"
          },
          "output_type": "display_data"
        }
      ],
      "source": [
        "plot_history(history_rnn_simple)"
      ]
    },
    {
      "cell_type": "code",
      "execution_count": null,
      "metadata": {
        "colab": {
          "base_uri": "https://localhost:8080/"
        },
        "id": "kCDU-gito3bl",
        "outputId": "03eb38b7-f1cf-4edd-99be-94b326c76e11"
      },
      "outputs": [
        {
          "name": "stdout",
          "output_type": "stream",
          "text": [
            "93/93 [==============================] - 1s 9ms/step\n"
          ]
        }
      ],
      "source": [
        "y_pred=np.argmax(model_rnn_simple.predict(x_test), axis=1)"
      ]
    },
    {
      "cell_type": "code",
      "execution_count": null,
      "metadata": {
        "id": "weuB7XPPEA80"
      },
      "outputs": [],
      "source": [
        "y_test=np.argmax(y_test, axis=1)"
      ]
    },
    {
      "cell_type": "code",
      "execution_count": null,
      "metadata": {
        "colab": {
          "base_uri": "https://localhost:8080/"
        },
        "id": "7tDluxcAj2tu",
        "outputId": "7ed3d801-8ec7-44e6-de2c-abdd330e931b"
      },
      "outputs": [
        {
          "name": "stdout",
          "output_type": "stream",
          "text": [
            "La matrice de confusion sur le jeu de test :\n",
            " [[673 686]\n",
            " [684 920]] \n",
            "\n",
            "L accuracy sur le jeu de test est :\n",
            " 0.5376307796152549\n"
          ]
        }
      ],
      "source": [
        "# On importe les librairies pour l'évaluation\n",
        "from sklearn.metrics import accuracy_score \n",
        "from sklearn.metrics import confusion_matrix\n",
        "\n",
        "# On calcule la matrice de confusion\n",
        "cm_test = confusion_matrix(y_test, y_pred)\n",
        "print('La matrice de confusion sur le jeu de test :\\n', cm_test, '\\n')\n",
        "\n",
        "# On calcul le score d accuracy\n",
        "acc_train=accuracy_score(y_test, y_pred)\n",
        "print('L accuracy sur le jeu de test est :\\n', acc_train)\n"
      ]
    },
    {
      "cell_type": "markdown",
      "metadata": {
        "id": "dxsxTljC0Cpb"
      },
      "source": [
        "Comments : \n",
        "- l'accuracy n'est pas tres tres bonne, on remarque sur la matrice de confusion que nos données test ne sont pas tres bien predit ( 143 + 1025 ) sur l'ensemble de test qui sont mal classé . \n",
        "- notre model overfitt rapidement, ce qui fait qu'on ne peux pas l'entrainer plus. \n",
        "\n",
        "Tous les RNN ont des boucles de rétroaction dans la couche récurrente. Cela leur permet de conserver des informations en « mémoire » au fil du temps. Mais, il peut être difficile de former des RNN standard pour résoudre des problèmes qui nécessitent l'apprentissage de dépendances temporelles à long terme. C'est parce que le gradient de la fonction de perte décroît de façon exponentielle avec le temps  (problème de fuite de gradient)"
      ]
    },
    {
      "cell_type": "markdown",
      "metadata": {
        "id": "6QbcGGkLkpwh"
      },
      "source": [
        "# RNN-LSTM gauche-droite classique "
      ]
    },
    {
      "cell_type": "code",
      "execution_count": null,
      "metadata": {
        "colab": {
          "base_uri": "https://localhost:8080/"
        },
        "id": "ZtoV899LnLsA",
        "outputId": "77ee885f-85c3-4185-ced3-4daf8ffd2173"
      },
      "outputs": [
        {
          "name": "stdout",
          "output_type": "stream",
          "text": [
            "Model: \"sequential_1\"\n",
            "_________________________________________________________________\n",
            " Layer (type)                Output Shape              Param #   \n",
            "=================================================================\n",
            " embedding_1 (Embedding)     (None, None, 128)         640000    \n",
            "                                                                 \n",
            " lstm (LSTM)                 (None, 64)                49408     \n",
            "                                                                 \n",
            " dense_1 (Dense)             (None, 1)                 65        \n",
            "                                                                 \n",
            "=================================================================\n",
            "Total params: 689,473\n",
            "Trainable params: 689,473\n",
            "Non-trainable params: 0\n",
            "_________________________________________________________________\n"
          ]
        }
      ],
      "source": [
        "embed_size = 128                                                   # dimension de l'embedding\n",
        "RNN_size   = 64\n",
        "\n",
        "# Example d'architecture pour le réseau RNN simple avec dropout\n",
        "model_lstm = Sequential()\n",
        "model_lstm.add(Embedding(num_words, embed_size))                 # layer embedding\n",
        "model_lstm.add(LSTM(RNN_size,return_sequences = False))          # layer lstm\n",
        "#model_lstm.add(Dropout(0.25))                                    # layer Dropout\n",
        "model_lstm.add(Dense(1))                                         # layer Dense\n",
        "\n",
        "# On affiche l'architecture de notre modèle\n",
        "model_lstm.summary()\n",
        "\n",
        "# On spécifie la fonction de perte, l'optimiseur, et la fonction d'évaluation\n",
        "model_lstm.compile(loss='binary_crossentropy', optimizer='adam', metrics=['accuracy'])"
      ]
    },
    {
      "cell_type": "code",
      "execution_count": null,
      "metadata": {
        "colab": {
          "base_uri": "https://localhost:8080/"
        },
        "id": "Kb1PMC2wn_mg",
        "outputId": "1d5fa6cb-2367-427c-c858-e129cde552c4"
      },
      "outputs": [
        {
          "name": "stdout",
          "output_type": "stream",
          "text": [
            "Epoch 1/10\n",
            "70/70 [==============================] - 12s 121ms/step - loss: 0.9161 - accuracy: 0.6032 - val_loss: 0.5924 - val_accuracy: 0.7676\n",
            "Epoch 2/10\n",
            "70/70 [==============================] - 7s 98ms/step - loss: 0.4298 - accuracy: 0.8467 - val_loss: 0.4073 - val_accuracy: 0.8054\n",
            "Epoch 3/10\n",
            "70/70 [==============================] - 8s 112ms/step - loss: 0.4255 - accuracy: 0.8408 - val_loss: 0.4980 - val_accuracy: 0.7784\n",
            "Epoch 4/10\n",
            "70/70 [==============================] - 7s 102ms/step - loss: 0.2029 - accuracy: 0.9590 - val_loss: 0.7968 - val_accuracy: 0.8144\n",
            "Epoch 5/10\n",
            "70/70 [==============================] - 7s 101ms/step - loss: 0.3694 - accuracy: 0.8607 - val_loss: 0.8086 - val_accuracy: 0.7694\n",
            "Epoch 6/10\n",
            "70/70 [==============================] - 9s 124ms/step - loss: 0.1205 - accuracy: 0.9788 - val_loss: 1.3416 - val_accuracy: 0.7946\n",
            "Epoch 7/10\n",
            "70/70 [==============================] - 6s 92ms/step - loss: 0.0752 - accuracy: 0.9910 - val_loss: 1.1008 - val_accuracy: 0.8018\n",
            "Epoch 8/10\n",
            "70/70 [==============================] - 8s 109ms/step - loss: 0.0585 - accuracy: 0.9950 - val_loss: 1.1373 - val_accuracy: 0.8108\n",
            "Epoch 9/10\n",
            "70/70 [==============================] - 6s 92ms/step - loss: 0.0511 - accuracy: 0.9964 - val_loss: 1.3291 - val_accuracy: 0.8090\n",
            "Epoch 10/10\n",
            "70/70 [==============================] - 7s 104ms/step - loss: 0.0492 - accuracy: 0.9964 - val_loss: 1.3823 - val_accuracy: 0.8162\n"
          ]
        }
      ],
      "source": [
        "# On entraine le réseau\n",
        "batch_size = 32                                                             # tailles des mini-batch\n",
        "epochs = 10                                                                 # nombre d'époques\n",
        "history_lstm = model_lstm.fit(x_train,y_train, batch_size=batch_size, epochs=epochs, validation_split=0.2) # on entraine"
      ]
    },
    {
      "cell_type": "code",
      "execution_count": null,
      "metadata": {
        "colab": {
          "base_uri": "https://localhost:8080/",
          "height": 573
        },
        "id": "VLcNnTM-oE8Z",
        "outputId": "877c1223-4fc9-4e5c-d040-74d5509c1d22"
      },
      "outputs": [
        {
          "data": {
            "image/png": "[encoded data removed]",
            "text/plain": [
              "<Figure size 432x288 with 1 Axes>"
            ]
          },
          "metadata": {
            "needs_background": "light"
          },
          "output_type": "display_data"
        },
        {
          "data": {
            "image/png": "[encoded data removed]",
            "text/plain": [
              "<Figure size 432x288 with 1 Axes>"
            ]
          },
          "metadata": {
            "needs_background": "light"
          },
          "output_type": "display_data"
        }
      ],
      "source": [
        "plot_history(history_lstm)"
      ]
    },
    {
      "cell_type": "code",
      "execution_count": null,
      "metadata": {
        "colab": {
          "base_uri": "https://localhost:8080/"
        },
        "id": "YPRDHs-AoE2G",
        "outputId": "f5ecd29f-398b-4b48-f799-29be6294290e"
      },
      "outputs": [
        {
          "name": "stdout",
          "output_type": "stream",
          "text": [
            "93/93 [==============================] - 3s 20ms/step\n"
          ]
        }
      ],
      "source": [
        "y_pred=predict(model_lstm)"
      ]
    },
    {
      "cell_type": "code",
      "execution_count": null,
      "metadata": {
        "colab": {
          "base_uri": "https://localhost:8080/"
        },
        "id": "ifPEcrXCri2N",
        "outputId": "3a243384-4143-4b4e-e18d-71216d09e175"
      },
      "outputs": [
        {
          "name": "stdout",
          "output_type": "stream",
          "text": [
            "La matrice de confusion sur le jeu de test :\n",
            " [[ 716  643]\n",
            " [  85 1519]] \n",
            "\n",
            "L accuracy sur le jeu de test est :\n",
            " 0.7543030712116099\n"
          ]
        }
      ],
      "source": [
        "# On importe les librairies pour l'évaluation\n",
        "from sklearn.metrics import accuracy_score \n",
        "from sklearn.metrics import confusion_matrix\n",
        "\n",
        "# On calcule la matrice de confusion\n",
        "cm_test = confusion_matrix(y_test, y_pred)\n",
        "print('La matrice de confusion sur le jeu de test :\\n', cm_test, '\\n')\n",
        "\n",
        "# On calcul le score d accuracy\n",
        "acc_train=accuracy_score(y_test, y_pred)\n",
        "print('L accuracy sur le jeu de test est :\\n', acc_train)"
      ]
    },
    {
      "cell_type": "markdown",
      "metadata": {
        "id": "GKA9vLSKxZbV"
      },
      "source": [
        "Comments :\n",
        "-  On a une accuracy bien meilleur avec le LSTM\n",
        "\n",
        "\n",
        "- Les réseaux LSTM sont un type de RNN qui utilise des unités spéciales en plus des unités standard. Les unités LSTM comprennent une « cellule mémoire » qui peut conserver des informations en mémoire pendant de longues périodes. Un ensemble de portes est utilisé pour contrôler quand les informations entrent dans la mémoire, quand elles sont sorties et quand elles sont oubliées. Cette architecture leur permet d'apprendre les dépendances à plus long terme. "
      ]
    },
    {
      "cell_type": "markdown",
      "metadata": {
        "id": "65KABuzVnCH4"
      },
      "source": [
        "# LSTM bi-directionnel et return_sequences = False"
      ]
    },
    {
      "cell_type": "code",
      "execution_count": null,
      "metadata": {
        "colab": {
          "base_uri": "https://localhost:8080/"
        },
        "id": "nwyZpOOIj2tu",
        "outputId": "63426e8f-544b-494a-8663-284acddaf9f7"
      },
      "outputs": [
        {
          "name": "stdout",
          "output_type": "stream",
          "text": [
            "Model: \"sequential_2\"\n",
            "_________________________________________________________________\n",
            " Layer (type)                Output Shape              Param #   \n",
            "=================================================================\n",
            " embedding_2 (Embedding)     (None, None, 128)         640000    \n",
            "                                                                 \n",
            " bidirectional (Bidirectiona  (None, 128)              98816     \n",
            " l)                                                              \n",
            "                                                                 \n",
            " dense_2 (Dense)             (None, 1)                 129       \n",
            "                                                                 \n",
            "=================================================================\n",
            "Total params: 738,945\n",
            "Trainable params: 738,945\n",
            "Non-trainable params: 0\n",
            "_________________________________________________________________\n"
          ]
        }
      ],
      "source": [
        "embed_size = 128                                                   # dimension de l'embedding\n",
        "RNN_size   = 64\n",
        "\n",
        "# Example d'architecture pour le réseau RNN simple avec dropout\n",
        "model_bidi = Sequential()\n",
        "model_bidi.add(Embedding(num_words, embed_size))                 # layer embedding\n",
        "model_bidi.add(Bidirectional(LSTM(RNN_size, return_sequences = False)))    # layer RNN\n",
        "#model_bidi.add(Dropout(0.25))                                    # layer Dropout\n",
        "model_bidi.add(Dense(1))                                         # layer Dense\n",
        "\n",
        "# On affiche l'architecture de notre modèle\n",
        "model_bidi.summary()\n",
        "\n",
        "# On spécifie la fonction de perte, l'optimiseur, et la fonction d'évaluation\n",
        "model_bidi.compile(loss='binary_crossentropy', optimizer='adam', metrics=['accuracy'])"
      ]
    },
    {
      "cell_type": "code",
      "execution_count": null,
      "metadata": {
        "colab": {
          "base_uri": "https://localhost:8080/"
        },
        "id": "kr4BOFwNrYFn",
        "outputId": "77afe34c-f3f1-4965-938f-097efd7f77a0"
      },
      "outputs": [
        {
          "name": "stdout",
          "output_type": "stream",
          "text": [
            "Epoch 1/10\n",
            "70/70 [==============================] - 17s 176ms/step - loss: 0.8355 - accuracy: 0.5915 - val_loss: 0.6058 - val_accuracy: 0.6793\n",
            "Epoch 2/10\n",
            "70/70 [==============================] - 12s 165ms/step - loss: 0.4277 - accuracy: 0.8269 - val_loss: 0.5151 - val_accuracy: 0.8144\n",
            "Epoch 3/10\n",
            "70/70 [==============================] - 11s 164ms/step - loss: 0.2321 - accuracy: 0.9234 - val_loss: 0.6707 - val_accuracy: 0.7964\n",
            "Epoch 4/10\n",
            "70/70 [==============================] - 11s 163ms/step - loss: 0.1422 - accuracy: 0.9716 - val_loss: 1.1363 - val_accuracy: 0.8306\n",
            "Epoch 5/10\n",
            "70/70 [==============================] - 12s 168ms/step - loss: 0.0664 - accuracy: 0.9932 - val_loss: 1.1932 - val_accuracy: 0.8288\n",
            "Epoch 6/10\n",
            "70/70 [==============================] - 12s 167ms/step - loss: 0.0462 - accuracy: 0.9964 - val_loss: 1.4519 - val_accuracy: 0.8234\n",
            "Epoch 7/10\n",
            "70/70 [==============================] - 12s 167ms/step - loss: 0.0419 - accuracy: 0.9973 - val_loss: 1.5658 - val_accuracy: 0.8252\n",
            "Epoch 8/10\n",
            "70/70 [==============================] - 12s 167ms/step - loss: 0.0365 - accuracy: 0.9973 - val_loss: 1.4768 - val_accuracy: 0.8378\n",
            "Epoch 9/10\n",
            "70/70 [==============================] - 11s 155ms/step - loss: 0.0346 - accuracy: 0.9977 - val_loss: 1.6062 - val_accuracy: 0.8396\n",
            "Epoch 10/10\n",
            "70/70 [==============================] - 11s 158ms/step - loss: 0.0346 - accuracy: 0.9977 - val_loss: 1.5862 - val_accuracy: 0.8396\n"
          ]
        }
      ],
      "source": [
        "# On entraine le réseau\n",
        "batch_size = 32                                                            # tailles des mini-batch\n",
        "epochs = 10                                                                 # nombre d'époques\n",
        "history_bidi = model_bidi.fit(x_train,y_train, batch_size=batch_size, epochs=epochs, validation_split=0.2) # on entraine"
      ]
    },
    {
      "cell_type": "code",
      "execution_count": null,
      "metadata": {
        "colab": {
          "base_uri": "https://localhost:8080/",
          "height": 573
        },
        "id": "8L0pZg8mrXkS",
        "outputId": "1e4db2ec-c3c4-4ae4-bdac-828cba66e530"
      },
      "outputs": [
        {
          "data": {
            "image/png": "[encoded data removed]",
            "text/plain": [
              "<Figure size 432x288 with 1 Axes>"
            ]
          },
          "metadata": {
            "needs_background": "light"
          },
          "output_type": "display_data"
        },
        {
          "data": {
            "image/png": "[encoded data removed]",
            "text/plain": [
              "<Figure size 432x288 with 1 Axes>"
            ]
          },
          "metadata": {
            "needs_background": "light"
          },
          "output_type": "display_data"
        }
      ],
      "source": [
        "plot_history(history_bidi)"
      ]
    },
    {
      "cell_type": "code",
      "execution_count": null,
      "metadata": {
        "colab": {
          "base_uri": "https://localhost:8080/"
        },
        "id": "EP2pR3cvrXh8",
        "outputId": "fa156066-18f3-4f43-d731-1e0efbaba96f"
      },
      "outputs": [
        {
          "name": "stdout",
          "output_type": "stream",
          "text": [
            "93/93 [==============================] - 4s 35ms/step\n"
          ]
        }
      ],
      "source": [
        "y_pred=predict(model_bidi)"
      ]
    },
    {
      "cell_type": "code",
      "execution_count": null,
      "metadata": {
        "colab": {
          "base_uri": "https://localhost:8080/"
        },
        "id": "93W7k0MZrXfk",
        "outputId": "fb33c2c8-a2a4-45f9-970e-7455525e90c4"
      },
      "outputs": [
        {
          "name": "stdout",
          "output_type": "stream",
          "text": [
            "La matrice de confusion sur le jeu de test :\n",
            " [[ 853  506]\n",
            " [ 116 1488]] \n",
            "\n",
            "L accuracy sur le jeu de test est :\n",
            " 0.7900776240296996\n"
          ]
        }
      ],
      "source": [
        "# On importe les librairies pour l'évaluation\n",
        "from sklearn.metrics import accuracy_score \n",
        "from sklearn.metrics import confusion_matrix\n",
        "\n",
        "# On calcule la matrice de confusion\n",
        "cm_test = confusion_matrix(y_test, y_pred)\n",
        "print('La matrice de confusion sur le jeu de test :\\n', cm_test, '\\n')\n",
        "\n",
        "# On calcul le score d accuracy\n",
        "acc_train=accuracy_score(y_test, y_pred)\n",
        "print('L accuracy sur le jeu de test est :\\n', acc_train)"
      ]
    },
    {
      "cell_type": "markdown",
      "metadata": {
        "id": "iDDingcLzFXB"
      },
      "source": [
        "L'accuracy est un peu plus meilleur que pour les LSTM bi\n",
        "\n",
        "L'utilisation de la bidirectionnelle exécutera nos entrées de deux manières, l'une du passé au futur et l'autre du futur au passé. Ce qui fait la difference avec les LSTM normal qui sont capables à tout moment de préserver les informations du passé et du futur.\n",
        "\n"
      ]
    },
    {
      "cell_type": "markdown",
      "metadata": {
        "id": "e-CCd_x0nZBr"
      },
      "source": [
        "# Plusieurs couches LSTM."
      ]
    },
    {
      "cell_type": "code",
      "execution_count": null,
      "metadata": {
        "colab": {
          "base_uri": "https://localhost:8080/"
        },
        "id": "I-IbZE1inAEW",
        "outputId": "c0982810-4397-4477-88a7-ea4b9554d3fc"
      },
      "outputs": [
        {
          "name": "stdout",
          "output_type": "stream",
          "text": [
            "Model: \"sequential_3\"\n",
            "_________________________________________________________________\n",
            " Layer (type)                Output Shape              Param #   \n",
            "=================================================================\n",
            " embedding_3 (Embedding)     (None, None, 64)          320000    \n",
            "                                                                 \n",
            " bidirectional_1 (Bidirectio  (None, None, 128)        66048     \n",
            " nal)                                                            \n",
            "                                                                 \n",
            " bidirectional_2 (Bidirectio  (None, 64)               41216     \n",
            " nal)                                                            \n",
            "                                                                 \n",
            " dense_3 (Dense)             (None, 64)                4160      \n",
            "                                                                 \n",
            " dropout_1 (Dropout)         (None, 64)                0         \n",
            "                                                                 \n",
            " dense_4 (Dense)             (None, 1)                 65        \n",
            "                                                                 \n",
            "=================================================================\n",
            "Total params: 431,489\n",
            "Trainable params: 431,489\n",
            "Non-trainable params: 0\n",
            "_________________________________________________________________\n"
          ]
        }
      ],
      "source": [
        "embed_size = 64                                                 # dimension de l'embedding\n",
        "RNN_size   = 64\n",
        "\n",
        "model = Sequential()\n",
        "model.add(Embedding(num_words, embed_size, mask_zero=True))   \n",
        "model.add(Bidirectional(LSTM(RNN_size,return_sequences=True)))\n",
        "model.add(Bidirectional(LSTM(32)))\n",
        "model.add(Dense(64,activation='relu'))\n",
        "model.add(Dropout(0.5))\n",
        "model.add(Dense(1))\n",
        "\n",
        "\n",
        "model.summary()\n",
        "# On spécifie la fonction de perte, l'optimiseur, et la fonction d'évaluation\n",
        "model.compile(loss=BinaryCrossentropy(from_logits=True),\n",
        "              optimizer=Adam(1e-4),\n",
        "              metrics=['accuracy'])"
      ]
    },
    {
      "cell_type": "code",
      "execution_count": null,
      "metadata": {
        "colab": {
          "base_uri": "https://localhost:8080/"
        },
        "id": "VyQ8jHXU5XA3",
        "outputId": "d9d0307f-7603-47bc-cf74-5ab77cd31e0a"
      },
      "outputs": [
        {
          "name": "stdout",
          "output_type": "stream",
          "text": [
            "Epoch 1/10\n",
            "87/87 [==============================] - 64s 514ms/step - loss: 0.6909 - accuracy: 0.4457 - val_loss: 0.6891 - val_accuracy: 0.4587\n",
            "Epoch 2/10\n",
            "87/87 [==============================] - 37s 423ms/step - loss: 0.6821 - accuracy: 0.4464 - val_loss: 0.6758 - val_accuracy: 0.4583\n",
            "Epoch 3/10\n",
            "87/87 [==============================] - 37s 425ms/step - loss: 0.5869 - accuracy: 0.6906 - val_loss: 0.5011 - val_accuracy: 0.7968\n",
            "Epoch 4/10\n",
            "87/87 [==============================] - 38s 431ms/step - loss: 0.3700 - accuracy: 0.8590 - val_loss: 0.4011 - val_accuracy: 0.8178\n",
            "Epoch 5/10\n",
            "87/87 [==============================] - 33s 374ms/step - loss: 0.2341 - accuracy: 0.9189 - val_loss: 0.4129 - val_accuracy: 0.8464\n",
            "Epoch 6/10\n",
            "87/87 [==============================] - 37s 423ms/step - loss: 0.1632 - accuracy: 0.9481 - val_loss: 0.4117 - val_accuracy: 0.8485\n",
            "Epoch 7/10\n",
            "87/87 [==============================] - 37s 428ms/step - loss: 0.1195 - accuracy: 0.9679 - val_loss: 0.4451 - val_accuracy: 0.8515\n",
            "Epoch 8/10\n",
            "87/87 [==============================] - 40s 461ms/step - loss: 0.0903 - accuracy: 0.9769 - val_loss: 0.5017 - val_accuracy: 0.8518\n",
            "Epoch 9/10\n",
            "87/87 [==============================] - 37s 423ms/step - loss: 0.0675 - accuracy: 0.9852 - val_loss: 0.5224 - val_accuracy: 0.8475\n",
            "Epoch 10/10\n",
            "87/87 [==============================] - 37s 426ms/step - loss: 0.0530 - accuracy: 0.9874 - val_loss: 0.5556 - val_accuracy: 0.8505\n"
          ]
        }
      ],
      "source": [
        "history = model.fit(x_train,y_train, epochs=10,\n",
        "                    validation_data=(x_test,y_test),\n",
        "                    validation_steps=30)"
      ]
    },
    {
      "cell_type": "code",
      "execution_count": null,
      "metadata": {
        "colab": {
          "base_uri": "https://localhost:8080/",
          "height": 573
        },
        "id": "XiOwnhmHnXyY",
        "outputId": "2be42fde-ddb4-4f00-ac14-de9d4550ac9c"
      },
      "outputs": [
        {
          "data": {
            "image/png": "[encoded data removed]",
            "text/plain": [
              "<Figure size 432x288 with 1 Axes>"
            ]
          },
          "metadata": {
            "needs_background": "light"
          },
          "output_type": "display_data"
        },
        {
          "data": {
            "image/png": "[encoded data removed]",
            "text/plain": [
              "<Figure size 432x288 with 1 Axes>"
            ]
          },
          "metadata": {
            "needs_background": "light"
          },
          "output_type": "display_data"
        }
      ],
      "source": [
        "plot_history(history)"
      ]
    },
    {
      "cell_type": "code",
      "execution_count": null,
      "metadata": {
        "colab": {
          "base_uri": "https://localhost:8080/"
        },
        "id": "iHNPA8-UnXv4",
        "outputId": "12b2d818-8ad8-47b3-bfc2-9817a68ecd9d"
      },
      "outputs": [
        {
          "name": "stdout",
          "output_type": "stream",
          "text": [
            "93/93 [==============================] - 13s 77ms/step\n"
          ]
        }
      ],
      "source": [
        "y_pred=predict(model)"
      ]
    },
    {
      "cell_type": "code",
      "execution_count": null,
      "metadata": {
        "colab": {
          "base_uri": "https://localhost:8080/"
        },
        "id": "Ujusw8aBnXtk",
        "outputId": "ad66b91f-296e-4361-9071-c3154459894f"
      },
      "outputs": [
        {
          "name": "stdout",
          "output_type": "stream",
          "text": [
            "La matrice de confusion sur le jeu de test :\n",
            " [[1087  272]\n",
            " [ 176 1428]] \n",
            "\n",
            "L accuracy sur le jeu de test est :\n",
            " 0.8488018899763753\n"
          ]
        }
      ],
      "source": [
        "# On importe les librairies pour l'évaluation\n",
        "from sklearn.metrics import accuracy_score \n",
        "from sklearn.metrics import confusion_matrix\n",
        "\n",
        "# On calcule la matrice de confusion\n",
        "cm_test = confusion_matrix(y_test, y_pred)\n",
        "print('La matrice de confusion sur le jeu de test :\\n', cm_test, '\\n')\n",
        "\n",
        "# On calcul le score d accuracy\n",
        "acc_train=accuracy_score(y_test, y_pred)\n",
        "print('L accuracy sur le jeu de test est :\\n', acc_train)"
      ]
    },
    {
      "cell_type": "code",
      "execution_count": null,
      "metadata": {
        "id": "9_IF_6cqzscv"
      },
      "outputs": [],
      "source": []
    }
  ],
  "metadata": {
    "colab": {
      "provenance": []
    },
    "kernelspec": {
      "display_name": "Python 3",
      "language": "python",
      "name": "python3"
    },
    "language_info": {
      "codemirror_mode": {
        "name": "ipython",
        "version": 3
      },
      "file_extension": ".py",
      "mimetype": "text/x-python",
      "name": "python",
      "nbconvert_exporter": "python",
      "pygments_lexer": "ipython3",
      "version": "3.7.3"
    }
  },
  "nbformat": 4,
  "nbformat_minor": 0
}
